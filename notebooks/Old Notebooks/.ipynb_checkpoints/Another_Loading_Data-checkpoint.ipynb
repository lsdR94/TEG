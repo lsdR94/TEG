{
 "cells": [
  {
   "cell_type": "code",
   "execution_count": 12,
   "metadata": {},
   "outputs": [],
   "source": [
    "from __future__ import print_function\n",
    "from os.path import isfile, join\n",
    "\n",
    "import segyio\n",
    "from os import listdir\n",
    "import numpy as np\n",
    "np.set_printoptions(threshold=np.nan) #Print todo el numpy.array\n",
    "import scipy.misc"
   ]
  },
  {
   "cell_type": "code",
   "execution_count": 3,
   "metadata": {},
   "outputs": [],
   "source": [
    "\n",
    "def readSEGY(filename):\n",
    "    print('Loading data cube from',filename,'with:')\n",
    "\n",
    "    # Read full data cube\n",
    "    data = segyio.tools.cube(filename)\n",
    "\n",
    "    # Put temporal axis first\n",
    "    data = np.moveaxis(data, -1, 0)\n",
    "\n",
    "    #Make data cube fast to acess\n",
    "    data = np.ascontiguousarray(data,'float32')\n",
    "\n",
    "    #Read meta data\n",
    "    segyfile = segyio.open(filename, \"r\")\n",
    "    print('  Crosslines: ', segyfile.xlines[0], ':', segyfile.xlines[-1])\n",
    "    print('  Inlines:    ', segyfile.ilines[0], ':', segyfile.ilines[-1])\n",
    "    print('  Timeslices: ', '1', ':', data.shape[0])\n",
    "\n",
    "    #Make dict with cube-info\n",
    "    data_info = {}\n",
    "    data_info['crossline_start'] = segyfile.xlines[0]\n",
    "    data_info['inline_start'] = segyfile.ilines[0]\n",
    "    data_info['timeslice_start'] = 1 #Todo: read this from segy\n",
    "    data_info['shape'] = data.shape\n",
    "    #Read dt and other params needed to do create a new\n",
    "\n",
    "\n",
    "    return data, data_info\n"
   ]
  },
  {
   "cell_type": "code",
   "execution_count": 6,
   "metadata": {},
   "outputs": [],
   "source": [
    "# Writes out_cube to a segy-file (out_filename) with same header/size as in_filename\n",
    "def writeSEGY(out_filename, in_filename, out_cube):\n",
    "    #Select last channel\n",
    "    if type(out_cube) is list:\n",
    "        out_cube = out_cube[-1]\n",
    "\n",
    "    print('Writing interpretation to ' + out_filename)\n",
    "    #Copy segy file\n",
    "    from shutil import copyfile\n",
    "    copyfile(in_filename, out_filename)\n",
    "\n",
    "    # Moving temporal axis back again\n",
    "    out_cube = np.moveaxis(out_cube, 0,-1)\n",
    "\n",
    "    #Open out-file\n",
    "    with segyio.open(out_filename, \"r+\") as src:\n",
    "        iline_start = src.ilines[0]\n",
    "        dtype = src.iline[iline_start].dtype\n",
    "        # loop through inlines and insert output\n",
    "        for i in src.ilines:\n",
    "            iline = out_cube[i-iline_start,:,:]\n",
    "            src.iline[i] = np.ascontiguousarray(iline.astype(dtype))\n",
    "\n",
    "    # Moving temporal axis first again - just in case the user want to keep working on it\n",
    "    out_cube = np.moveaxis(out_cube, -1, 0)\n",
    "\n",
    "    print('Writing interpretation - Finished')\n",
    "    return"
   ]
  },
  {
   "cell_type": "code",
   "execution_count": null,
   "metadata": {},
   "outputs": [],
   "source": [
    "readSEGY('NS2600-3000_2700-3100.sgy')\n",
    "print"
   ]
  },
  {
   "cell_type": "code",
   "execution_count": 19,
   "metadata": {},
   "outputs": [
    {
     "name": "stdout",
     "output_type": "stream",
     "text": [
      "[2600 2601 2602 2603 2604 2605 2606 2607 2608 2609 2610 2611 2612 2613\n",
      " 2614 2615 2616 2617 2618 2619 2620 2621 2622 2623 2624 2625 2626 2627\n",
      " 2628 2629 2630 2631 2632 2633 2634 2635 2636 2637 2638 2639 2640 2641\n",
      " 2642 2643 2644 2645 2646 2647 2648 2649 2650 2651 2652 2653 2654 2655\n",
      " 2656 2657 2658 2659 2660 2661 2662 2663 2664 2665 2666 2667 2668 2669\n",
      " 2670 2671 2672 2673 2674 2675 2676 2677 2678 2679 2680 2681 2682 2683\n",
      " 2684 2685 2686 2687 2688 2689 2690 2691 2692 2693 2694 2695 2696 2697\n",
      " 2698 2699 2700]\n"
     ]
    },
    {
     "ename": "AttributeError",
     "evalue": "'numpy.ndarray' object has no attribute 'depth_slice'",
     "output_type": "error",
     "traceback": [
      "\u001b[0;31m---------------------------------------------------------------------------\u001b[0m",
      "\u001b[0;31mAttributeError\u001b[0m                            Traceback (most recent call last)",
      "\u001b[0;32m<ipython-input-19-ba0ef86de0db>\u001b[0m in \u001b[0;36m<module>\u001b[0;34m()\u001b[0m\n\u001b[1;32m      1\u001b[0m \u001b[0;32mwith\u001b[0m \u001b[0msegyio\u001b[0m\u001b[0;34m.\u001b[0m\u001b[0mopen\u001b[0m\u001b[0;34m(\u001b[0m\u001b[0;34m'FS2600-3000_2700-3100.sgy'\u001b[0m\u001b[0;34m,\u001b[0m\u001b[0;34m'r'\u001b[0m\u001b[0;34m)\u001b[0m \u001b[0;32mas\u001b[0m \u001b[0mfs\u001b[0m\u001b[0;34m:\u001b[0m\u001b[0;34m\u001b[0m\u001b[0m\n\u001b[1;32m      2\u001b[0m     \u001b[0mprint\u001b[0m\u001b[0;34m(\u001b[0m\u001b[0mfs\u001b[0m\u001b[0;34m.\u001b[0m\u001b[0milines\u001b[0m\u001b[0;34m)\u001b[0m\u001b[0;34m\u001b[0m\u001b[0m\n\u001b[0;32m----> 3\u001b[0;31m     \u001b[0mprint\u001b[0m\u001b[0;34m(\u001b[0m\u001b[0mfs\u001b[0m\u001b[0;34m.\u001b[0m\u001b[0miline\u001b[0m\u001b[0;34m[\u001b[0m\u001b[0;36m2600\u001b[0m\u001b[0;34m]\u001b[0m\u001b[0;34m.\u001b[0m\u001b[0mdepth_slice\u001b[0m\u001b[0;34m[\u001b[0m\u001b[0;36m700\u001b[0m\u001b[0;34m]\u001b[0m\u001b[0;34m)\u001b[0m\u001b[0;34m\u001b[0m\u001b[0m\n\u001b[0m",
      "\u001b[0;31mAttributeError\u001b[0m: 'numpy.ndarray' object has no attribute 'depth_slice'"
     ]
    }
   ],
   "source": [
    "with segyio.open('FS2600-3000_2700-3100.sgy','r') as fs:\n",
    "    print(fs.ilines)\n",
    "    print(fs.iline[2600])\n",
    "    print(fs.depth_slice[700])\n",
    "    "
   ]
  },
  {
   "cell_type": "code",
   "execution_count": null,
   "metadata": {},
   "outputs": [],
   "source": []
  }
 ],
 "metadata": {
  "kernelspec": {
   "display_name": "Python 3",
   "language": "python",
   "name": "python3"
  },
  "language_info": {
   "codemirror_mode": {
    "name": "ipython",
    "version": 3
   },
   "file_extension": ".py",
   "mimetype": "text/x-python",
   "name": "python",
   "nbconvert_exporter": "python",
   "pygments_lexer": "ipython3",
   "version": "3.7.1"
  }
 },
 "nbformat": 4,
 "nbformat_minor": 2
}
