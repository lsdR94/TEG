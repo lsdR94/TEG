{
 "cells": [
  {
   "cell_type": "markdown",
   "metadata": {},
   "source": [
    "# ==================TEG-Black_Ridge_3D======================="
   ]
  },
  {
   "cell_type": "code",
   "execution_count": 2,
   "metadata": {},
   "outputs": [],
   "source": [
    "import segyio\n",
    "import numpy as np\n",
    "import matplotlib.pyplot as plt\n",
    "from PyQt4.QtGui import QApplication\n",
    "import segyviewlib"
   ]
  },
  {
   "cell_type": "markdown",
   "metadata": {},
   "source": [
    "Tutorial Jokva\n",
    "Sea segyio.open('arhivo','r') as f:\n",
    "f.trace[n]: lectura de la traza n -> Devuelve un np.array\n",
    "f.header[n]: lectura del header de la traza n -> Devuelve un diccionario con los datos del header.\n",
    "(únicos modulos que funcionan con datos no estructurados)\n",
    "f.ilines[n:x:m]: número de línea inline inferido\n",
    "f.xline[m]: número de línea crossline inferido\n",
    "f.fast/slow: determinan como se disponen las trazas -> Ordenamiento por inline implicaría que inline es fast.\n",
    "f.depth_slice[n]: corte horizontal a n profundidad -> Devuelve un np.array\n",
    "f.gather: es intersección vertical de inline y crossline -> A menos de que se le coloque un offset, devuelve offset           x sample\n",
    "f.text[]: devuelve el header número n.\n",
    "f.bin: como el f.header, solo que no está indexado (devuelve inf. en binario)\n"
   ]
  },
  {
   "cell_type": "markdown",
   "metadata": {},
   "source": [
    "Ejemplos:\n",
    "with segyio.open('Prestack_BR.sgy','r') as pb:\n",
    "    #for line in pb.iline[:100]:\n",
    "        #print(np.average(line))\n",
    "    #for line in pb.xline[2:10]:\n",
    "        #print(line)\n",
    "    #for line in pb.fast[::2]:\n",
    "        #print(np.min(line))\n",
    "    #for factor, offset in enumerate(pb.iline[10, :]):\n",
    "        #offset *= factor\n",
    "        #print(offset)\n",
    "    #pb.gather[2, 6, :].shape\n",
    "    #text = pb.text[0]\n",
    "    #pb.trace[10] = np.zeros(len(pb.samples))"
   ]
  },
  {
   "cell_type": "code",
   "execution_count": 5,
   "metadata": {},
   "outputs": [
    {
     "name": "stdout",
     "output_type": "stream",
     "text": [
      "{JobID: 2, TraceFlag: 1, LineNumber: 0, ReelNumber: 0, Traces: 0, AuxTraces: 0, Interval: 4000, IntervalOriginal: 0, Samples: 1501, SamplesOriginal: 0, Format: 1, EnsembleFold: 0, SortingCode: 4, ExtendedHeaders: 0, VerticalSum: 0, SweepFrequencyStart: 0, SweepFrequencyEnd: 0, SweepLength: 0, SEGYRevision: 256, Sweep: 0, SweepChannel: 0, SweepTaperStart: 0, SweepTaperEnd: 0, Taper: 0, CorrelatedTraces: 0, BinaryGainRecovery: 0, AmplitudeRecovery: 0, MeasurementSystem: 1, ImpulseSignalPolarity: 0, VibratoryPolarity: 0}\n",
      "0\n",
      "[2600 2601 2602 2603 2604 2605 2606 2607 2608 2609 2610 2611 2612 2613\n",
      " 2614 2615 2616 2617 2618 2619 2620 2621 2622 2623 2624 2625 2626 2627\n",
      " 2628 2629 2630 2631 2632 2633 2634 2635 2636 2637 2638 2639 2640 2641\n",
      " 2642 2643 2644 2645 2646 2647 2648 2649 2650 2651 2652 2653 2654 2655\n",
      " 2656 2657 2658 2659 2660 2661 2662 2663 2664 2665 2666 2667 2668 2669\n",
      " 2670 2671 2672 2673 2674 2675 2676 2677 2678 2679 2680 2681 2682 2683\n",
      " 2684 2685 2686 2687 2688 2689 2690 2691 2692 2693 2694 2695 2696 2697\n",
      " 2698 2699 2700]\n",
      "[3000 3001 3002 3003 3004 3005 3006 3007 3008 3009 3010 3011 3012 3013\n",
      " 3014 3015 3016 3017 3018 3019 3020 3021 3022 3023 3024 3025 3026 3027\n",
      " 3028 3029 3030 3031 3032 3033 3034 3035 3036 3037 3038 3039 3040 3041\n",
      " 3042 3043 3044 3045 3046 3047 3048 3049 3050 3051 3052 3053 3054 3055\n",
      " 3056 3057 3058 3059 3060 3061 3062 3063 3064 3065 3066 3067 3068 3069\n",
      " 3070 3071 3072 3073 3074 3075 3076 3077 3078 3079 3080 3081 3082 3083\n",
      " 3084 3085 3086 3087 3088 3089 3090 3091 3092 3093 3094 3095 3096 3097\n",
      " 3098 3099 3100]\n"
     ]
    }
   ],
   "source": [
    "#Apertura e inspección de doc.sgy\n",
    "with segyio.open('FS2600-3000_2700-3100.sgy','r') as f:\n",
    "    f.mmap() #Lectura rápida del dato sísmico\n",
    "#Impresión de infrmación binaria (bin) del header\n",
    "    print(f.bin)\n",
    "    print(f.bin[segyio.BinField.Traces])\n",
    "    #help(segyio.BinField)\n",
    "#Impresión del header de la traza 10 inline\n",
    "    #print(f.header[10][segyio.TraceField.INLINE_3D])\n",
    "    #print(sd.header[10].items())\n",
    "#Impresión de los ejes inline y Crossline (numeros)\n",
    "    print(f.ilines)\n",
    "    print(f.xlines)"
   ]
  },
  {
   "cell_type": "code",
   "execution_count": 4,
   "metadata": {},
   "outputs": [
    {
     "ename": "ValueError",
     "evalue": "Inlines inconsistent, expect all inlines to be unique",
     "output_type": "error",
     "traceback": [
      "\u001b[0;31m---------------------------------------------------------------------------\u001b[0m",
      "\u001b[0;31mValueError\u001b[0m                                Traceback (most recent call last)",
      "\u001b[0;32m<ipython-input-4-fce8a826b912>\u001b[0m in \u001b[0;36m<module>\u001b[0;34m()\u001b[0m\n\u001b[1;32m      1\u001b[0m \u001b[0;31m#Apertura de prestack data\u001b[0m\u001b[0;34m\u001b[0m\u001b[0;34m\u001b[0m\u001b[0m\n\u001b[0;32m----> 2\u001b[0;31m \u001b[0;32mwith\u001b[0m \u001b[0msegyio\u001b[0m\u001b[0;34m.\u001b[0m\u001b[0mopen\u001b[0m\u001b[0;34m(\u001b[0m\u001b[0;34m'FS_IL983-1983_XL504-1504.sgy'\u001b[0m\u001b[0;34m,\u001b[0m\u001b[0;34m'r'\u001b[0m\u001b[0;34m)\u001b[0m \u001b[0;32mas\u001b[0m \u001b[0msd\u001b[0m\u001b[0;34m:\u001b[0m\u001b[0;34m\u001b[0m\u001b[0m\n\u001b[0m\u001b[1;32m      3\u001b[0m     \u001b[0mprint\u001b[0m\u001b[0;34m(\u001b[0m\u001b[0msd\u001b[0m\u001b[0;34m.\u001b[0m\u001b[0moffsets\u001b[0m\u001b[0;34m)\u001b[0m \u001b[0;31m#NOTA: Los poststack tienen una dimensión de 1, usualmente [0] (Seismic_data.sgy) -> Error: not matching\u001b[0m\u001b[0;34m\u001b[0m\u001b[0m\n\u001b[1;32m      4\u001b[0m     \u001b[0;31m# Read data along first iline and offset 100:  data [nxl x nt]\u001b[0m\u001b[0;34m\u001b[0m\u001b[0;34m\u001b[0m\u001b[0m\n\u001b[1;32m      5\u001b[0m     \u001b[0;31m#data1 = sd.iline[0, 100]\u001b[0m\u001b[0;34m\u001b[0m\u001b[0;34m\u001b[0m\u001b[0m\n",
      "\u001b[0;32m~/anaconda3/envs/TEG/lib/python3.5/site-packages/segyio/open.py\u001b[0m in \u001b[0;36mopen\u001b[0;34m(filename, mode, iline, xline, strict, ignore_geometry, endian)\u001b[0m\n\u001b[1;32m    185\u001b[0m         \u001b[0;32mreturn\u001b[0m \u001b[0mf\u001b[0m\u001b[0;34m\u001b[0m\u001b[0m\n\u001b[1;32m    186\u001b[0m \u001b[0;34m\u001b[0m\u001b[0m\n\u001b[0;32m--> 187\u001b[0;31m     \u001b[0;32mreturn\u001b[0m \u001b[0minfer_geometry\u001b[0m\u001b[0;34m(\u001b[0m\u001b[0mf\u001b[0m\u001b[0;34m,\u001b[0m \u001b[0mmetrics\u001b[0m\u001b[0;34m,\u001b[0m \u001b[0miline\u001b[0m\u001b[0;34m,\u001b[0m \u001b[0mxline\u001b[0m\u001b[0;34m,\u001b[0m \u001b[0mstrict\u001b[0m\u001b[0;34m)\u001b[0m\u001b[0;34m\u001b[0m\u001b[0m\n\u001b[0m",
      "\u001b[0;32m~/anaconda3/envs/TEG/lib/python3.5/site-packages/segyio/open.py\u001b[0m in \u001b[0;36minfer_geometry\u001b[0;34m(f, metrics, iline, xline, strict)\u001b[0m\n\u001b[1;32m     17\u001b[0m \u001b[0;34m\u001b[0m\u001b[0m\n\u001b[1;32m     18\u001b[0m         \u001b[0mf\u001b[0m\u001b[0;34m.\u001b[0m\u001b[0mxfd\u001b[0m\u001b[0;34m.\u001b[0m\u001b[0mindices\u001b[0m\u001b[0;34m(\u001b[0m\u001b[0mmetrics\u001b[0m\u001b[0;34m,\u001b[0m \u001b[0milines\u001b[0m\u001b[0;34m,\u001b[0m \u001b[0mxlines\u001b[0m\u001b[0;34m,\u001b[0m \u001b[0moffsets\u001b[0m\u001b[0;34m)\u001b[0m\u001b[0;34m\u001b[0m\u001b[0m\n\u001b[0;32m---> 19\u001b[0;31m         \u001b[0mf\u001b[0m\u001b[0;34m.\u001b[0m\u001b[0minterpret\u001b[0m\u001b[0;34m(\u001b[0m\u001b[0milines\u001b[0m\u001b[0;34m,\u001b[0m \u001b[0mxlines\u001b[0m\u001b[0;34m,\u001b[0m \u001b[0moffsets\u001b[0m\u001b[0;34m,\u001b[0m \u001b[0mf\u001b[0m\u001b[0;34m.\u001b[0m\u001b[0m_sorting\u001b[0m\u001b[0;34m)\u001b[0m\u001b[0;34m\u001b[0m\u001b[0m\n\u001b[0m\u001b[1;32m     20\u001b[0m \u001b[0;34m\u001b[0m\u001b[0m\n\u001b[1;32m     21\u001b[0m     \u001b[0;32mexcept\u001b[0m\u001b[0;34m:\u001b[0m\u001b[0;34m\u001b[0m\u001b[0m\n",
      "\u001b[0;32m~/anaconda3/envs/TEG/lib/python3.5/site-packages/segyio/segy.py\u001b[0m in \u001b[0;36minterpret\u001b[0;34m(self, ilines, xlines, offsets, sorting)\u001b[0m\n\u001b[1;32m    910\u001b[0m             \u001b[0merror\u001b[0m \u001b[0;34m=\u001b[0m \u001b[0;34m\"Inlines inconsistent\"\u001b[0m\u001b[0;34m\u001b[0m\u001b[0m\n\u001b[1;32m    911\u001b[0m             \u001b[0msolution\u001b[0m \u001b[0;34m=\u001b[0m \u001b[0;34m\"expect all inlines to be unique\"\u001b[0m\u001b[0;34m\u001b[0m\u001b[0m\n\u001b[0;32m--> 912\u001b[0;31m             \u001b[0;32mraise\u001b[0m \u001b[0mValueError\u001b[0m\u001b[0;34m(\u001b[0m\u001b[0;34m\"{}, {}\"\u001b[0m\u001b[0;34m.\u001b[0m\u001b[0mformat\u001b[0m\u001b[0;34m(\u001b[0m\u001b[0merror\u001b[0m\u001b[0;34m,\u001b[0m \u001b[0msolution\u001b[0m\u001b[0;34m)\u001b[0m\u001b[0;34m)\u001b[0m\u001b[0;34m\u001b[0m\u001b[0m\n\u001b[0m\u001b[1;32m    913\u001b[0m \u001b[0;34m\u001b[0m\u001b[0m\n\u001b[1;32m    914\u001b[0m         \u001b[0;32mif\u001b[0m \u001b[0mnp\u001b[0m\u001b[0;34m.\u001b[0m\u001b[0munique\u001b[0m\u001b[0;34m(\u001b[0m\u001b[0mxlines\u001b[0m\u001b[0;34m)\u001b[0m\u001b[0;34m.\u001b[0m\u001b[0msize\u001b[0m \u001b[0;34m!=\u001b[0m \u001b[0mxlines\u001b[0m\u001b[0;34m.\u001b[0m\u001b[0msize\u001b[0m\u001b[0;34m:\u001b[0m\u001b[0;34m\u001b[0m\u001b[0m\n",
      "\u001b[0;31mValueError\u001b[0m: Inlines inconsistent, expect all inlines to be unique"
     ]
    }
   ],
   "source": [
    "#Apertura de prestack data \n",
    "with segyio.open('FS_IL983-1983_XL504-1504.sgy','r') as sd:\n",
    "    print(sd.offsets) #NOTA: Los poststack tienen una dimensión de 1, usualmente [0] (Seismic_data.sgy) -> Error: not matching\n",
    "    # Read data along first iline and offset 100:  data [nxl x nt]\n",
    "    #data1 = sd.iline[0, 100]\n",
    "\n",
    "    # Read data along first iline and all offsets gath:  data [noff x nxl x nt]\n",
    "    #data2 = np.asarray([np.copy(x) for x in sd.iline[0:1, :]])\n",
    "\n",
    "    # Read data along first 5 ilines and all offsets gath:  data [noff nil x nxl x nt]\n",
    "    #data3 = np.asarray([np.copy(x) for x in sd.iline[0:5, :]])\n",
    "\n",
    "    # Read data along first xline and all offsets gath:  data [noff x nil x nt]\n",
    "    #data4 = np.asarray([np.copy(x) for x in sd.xline[0:1, :]])"
   ]
  },
  {
   "cell_type": "code",
   "execution_count": 6,
   "metadata": {},
   "outputs": [
    {
     "data": {
      "image/png": "[encoded data removed]",
      "text/plain": [
       "<Figure size 432x288 with 1 Axes>"
      ]
     },
     "metadata": {},
     "output_type": "display_data"
    }
   ],
   "source": [
    "#Datos prestack no estructurados\n",
    "with segyio.open('FS2600-3000_2700-3100.sgy', 'r', ignore_geometry=True) as segyfile:\n",
    "    segyfile.mmap()\n",
    "\n",
    "    # Extract header word for all traces\n",
    "    sourceX = segyfile.attributes(segyio.TraceField.SourceX)[:]\n",
    "\n",
    "    # Scatter plot sources and receivers color-coded on their number\n",
    "    plt.figure()\n",
    "    sourceY = segyfile.attributes(segyio.TraceField.SourceY)[:]\n",
    "    nsum = segyfile.attributes(segyio.TraceField.NSummedTraces)[:]\n",
    "    plt.scatter(sourceX, sourceY, c=nsum, edgecolor='none')\n",
    "\n",
    "    groupX = segyfile.attributes(segyio.TraceField.GroupX)[:]\n",
    "    groupY = segyfile.attributes(segyio.TraceField.GroupY)[:]\n",
    "    nstack = segyfile.attributes(segyio.TraceField.NStackedTraces)[:]\n",
    "    plt.scatter(groupX, groupY, c=nstack, edgecolor='none')\n",
    "    #print(sourceX)"
   ]
  },
  {
   "cell_type": "code",
   "execution_count": 11,
   "metadata": {},
   "outputs": [
    {
     "name": "stdout",
     "output_type": "stream",
     "text": [
      "{JobID: 2, TraceFlag: 1, LineNumber: 0, ReelNumber: 0, Traces: 0, AuxTraces: 0, Interval: 4000, IntervalOriginal: 0, Samples: 1501, SamplesOriginal: 0, Format: 1, EnsembleFold: 0, SortingCode: 4, ExtendedHeaders: 0, VerticalSum: 0, SweepFrequencyStart: 0, SweepFrequencyEnd: 0, SweepLength: 0, SEGYRevision: 256, Sweep: 0, SweepChannel: 0, SweepTaperStart: 0, SweepTaperEnd: 0, Taper: 0, CorrelatedTraces: 0, BinaryGainRecovery: 0, AmplitudeRecovery: 0, MeasurementSystem: 1, ImpulseSignalPolarity: 0, VibratoryPolarity: 0}\n"
     ]
    }
   ],
   "source": [
    "with segyio.open('FS2600-3000_2700-3100.sgy', 'r', ignore_geometry=True) as fs:\n",
    "    fs.mmap()\n",
    "    print(fs.bin)"
   ]
  },
  {
   "cell_type": "code",
   "execution_count": null,
   "metadata": {},
   "outputs": [],
   "source": []
  }
 ],
 "metadata": {
  "kernelspec": {
   "display_name": "Python 3",
   "language": "python",
   "name": "python3"
  },
  "language_info": {
   "codemirror_mode": {
    "name": "ipython",
    "version": 3
   },
   "file_extension": ".py",
   "mimetype": "text/x-python",
   "name": "python",
   "nbconvert_exporter": "python",
   "pygments_lexer": "ipython3",
   "version": "3.7.1"
  }
 },
 "nbformat": 4,
 "nbformat_minor": 2
}
